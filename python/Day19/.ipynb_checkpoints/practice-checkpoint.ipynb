{
 "cells": [
  {
   "cell_type": "code",
   "execution_count": 1,
   "id": "b4ee7cb4-c7c4-43a8-a53d-7430fc266e48",
   "metadata": {},
   "outputs": [
    {
     "name": "stdout",
     "output_type": "stream",
     "text": [
      "True\n",
      "False\n"
     ]
    }
   ],
   "source": [
    "import string\n",
    " \n",
    "def is_pangram(s):\n",
    "    # Convert to lowercase and remove spaces\n",
    "    s = s.lower()\n",
    "    # Get all letters of the alphabet\n",
    "    alphabet = set(string.ascii_lowercase)\n",
    "    # Check if all letters are present in the given string\n",
    "    return alphabet.issubset(set(s))\n",
    " \n",
    "# Example Usage\n",
    "sentence1 = \"The quick brown fox jumps over the lazy dog\"\n",
    "sentence2 = \"Hello World\"\n",
    " \n",
    "print(is_pangram(sentence1))  # Output: True\n",
    "print(is_pangram(sentence2))  # Output: False"
   ]
  },
  {
   "cell_type": "code",
   "execution_count": 3,
   "id": "4b1ade7f-555d-4236-a8e7-5b752b4fdfd0",
   "metadata": {},
   "outputs": [
    {
     "name": "stdout",
     "output_type": "stream",
     "text": [
      "[['eat', 'tea', 'ate'], ['tan', 'nat'], ['bat']]\n"
     ]
    }
   ],
   "source": [
    "from collections import defaultdict\n",
    " \n",
    "def group_anagrams(words):\n",
    "    anagrams = defaultdict(list)\n",
    " \n",
    "    for word in words:\n",
    "        # Sort the word and use it as a key\n",
    "        sorted_word = ''.join(sorted(word))\n",
    "        anagrams[sorted_word].append(word)\n",
    " \n",
    "    # Convert the dictionary values to a list\n",
    "    return list(anagrams.values())\n",
    " \n",
    "# Example usage:\n",
    "words_list = [\"eat\", \"tea\", \"tan\", \"ate\", \"nat\", \"bat\"]\n",
    "print(group_anagrams(words_list))"
   ]
  },
  {
   "cell_type": "code",
   "execution_count": 32,
   "id": "0c6916a0-6dc4-4978-a5d6-dac169173e91",
   "metadata": {},
   "outputs": [
    {
     "name": "stdout",
     "output_type": "stream",
     "text": [
      "5\n"
     ]
    }
   ],
   "source": [
    "# What is the output of the following program?\n",
    "\n",
    "# tup = (1, 2, 3, 4)\n",
    "# tup.append((5, 6, 7))  #Tuples do not support append()\n",
    "# print(len(tup))\n",
    "#to add elements to a tuple, use tuple concatenation\n",
    "tup = (1, 2, 3, 4)\n",
    "tup = tup + ((5, 6, 7),)  #Creates a new tuple\n",
    "print(len(tup))  # Output: 5\n"
   ]
  },
  {
   "cell_type": "raw",
   "id": "2ac1ddcb-7bf2-4f62-9cf3-472e84dd5ef1",
   "metadata": {},
   "source": [
    "What is an instance variable in a class?\n",
    "\n",
    "D)A variable used for method overloading\n",
    "\n",
    "C)A variable specific to an instance of a class\n",
    "\n",
    "B)A variable defined outside the class\n",
    "\n",
    "A)A variable shared among all instances of a class\n",
    "Answer)\n",
    "D) A variable specific to an instance of a class"
   ]
  },
  {
   "cell_type": "code",
   "execution_count": 30,
   "id": "6957e88d-5901-4865-b0c5-9055f45a0cac",
   "metadata": {},
   "outputs": [
    {
     "name": "stdout",
     "output_type": "stream",
     "text": [
      "{'a': 1, 'b': 3, 'c': 4}\n",
      "{'a': 1, 'b': 3, 'c': 4}\n",
      "{'a': 1, 'b': 3, 'c': 4}\n"
     ]
    }
   ],
   "source": [
    "# Write a Python code to merge two dictionaries\n",
    "\n",
    "dict1 = {'a': 1, 'b': 2}\n",
    "dict2 = {'b': 3, 'c': 4}\n",
    "\n",
    "# Merging using dictionary unpacking\n",
    "merged = {**dict1, **dict2}\n",
    "\n",
    "print(merged)  # Output: {'a': 1, 'b': 3, 'c': 4}\n",
    "\n",
    "#Alternative Method:\n",
    "dict1 = {'a': 1, 'b': 2}\n",
    "dict2 = {'b': 3, 'c': 4}\n",
    "\n",
    "dict1.update(dict2)  \n",
    "print(dict1)  # Output: {'a': 1, 'b': 3, 'c': 4}\n",
    "#method 3rd\n",
    "merged = dict1 | dict2\n",
    "print(merged)  # Output: {'a': 1, 'b': 3, 'c': 4}\n"
   ]
  },
  {
   "cell_type": "code",
   "execution_count": 29,
   "id": "cf5808fc-91fd-46e2-aaef-7f8665b200a8",
   "metadata": {},
   "outputs": [
    {
     "name": "stdout",
     "output_type": "stream",
     "text": [
      "[3, 4]\n",
      "[3, 4]\n",
      "[3, 4]\n"
     ]
    }
   ],
   "source": [
    "# Write a Python program to find common elements in two lists\n",
    "\n",
    "list1 = [1, 2, 3, 4]\n",
    "list2 = [3, 4, 5, 6]\n",
    "# Finding common elements using set intersection\n",
    "common = list(set(list1) & set(list2))\n",
    "print(common)  # Output: [3, 4]\n",
    "\n",
    "# Alternative Methods:\n",
    "# Using List Comprehension\n",
    "common = [item for item in list1 if item in list2]\n",
    "print(common)  # Output: [3, 4]\n",
    "#method\n",
    "#Using filter()\n",
    "common = list(filter(lambda x: x in list2, list1))\n",
    "print(common)  # Output: [3, 4]\n",
    "\n"
   ]
  },
  {
   "cell_type": "code",
   "execution_count": 27,
   "id": "5faec828-17c2-47bc-81a4-37f39d461966",
   "metadata": {},
   "outputs": [
    {
     "name": "stdout",
     "output_type": "stream",
     "text": [
      "jumps\n"
     ]
    }
   ],
   "source": [
    "#Write a Python program to find the longest word in a sentence\n",
    "def longest_word(sentence):    \n",
    "    words = sentence.split()    \n",
    "    return max(words, key=len)\n",
    "print(longest_word(\"The fox jumps over the lazy dog\"))  # jumps\n"
   ]
  },
  {
   "cell_type": "code",
   "execution_count": 34,
   "id": "48e60e51-1d09-41c6-84ee-f4a751a165cf",
   "metadata": {},
   "outputs": [
    {
     "name": "stdout",
     "output_type": "stream",
     "text": [
      "1\n"
     ]
    }
   ],
   "source": [
    "#Write a Python code to count the number of uppercase letters in a string\n",
    "def count_uppercase(s):    \n",
    "    return sum(1 for char in s if char.isupper())\n",
    "print(count_uppercase(\"Nxtwave\"))  # 1"
   ]
  },
  {
   "cell_type": "code",
   "execution_count": 51,
   "id": "ca707b3a-c6bf-4125-88ff-8d17286c2e53",
   "metadata": {},
   "outputs": [
    {
     "name": "stdout",
     "output_type": "stream",
     "text": [
      "True\n",
      "False\n",
      "True\n",
      "False\n"
     ]
    }
   ],
   "source": [
    "#Write a Python code to check if a number is a perfect square\n",
    "def is_perfect_square(x):\n",
    "    return int(x**0.5) ** 2 == x\n",
    "\n",
    "# Example usage:\n",
    "print(is_perfect_square(16))  # Output: True\n",
    "print(is_perfect_square(14))  # Output: False\n",
    "#alternate method\n",
    "import math\n",
    "\n",
    "def is_perfect_square(x):\n",
    "    return math.isqrt(x) ** 2 == x  # More efficient for large numbers\n",
    "\n",
    "print(is_perfect_square(16))  # Output: True\n",
    "print(is_perfect_square(14))  # Output: False\n"
   ]
  },
  {
   "cell_type": "code",
   "execution_count": 54,
   "id": "932bbb0e-293d-40b8-9779-2839c64803bc",
   "metadata": {},
   "outputs": [
    {
     "name": "stdout",
     "output_type": "stream",
     "text": [
      "[4, 16, 36, 64, 100]\n",
      "[4, 16, 36, 64, 100]\n"
     ]
    }
   ],
   "source": [
    "#suppose you have a list of numbers and you want to create a new list containing only the squares of the even numbers.\n",
    "\n",
    "numbers = [1, 2, 3, 4, 5, 6, 7, 8, 9, 10]\n",
    "# Squaring only the even numbers\n",
    "squared_evens = [x**2 for x in numbers if x % 2 == 0]\n",
    "print(squared_evens)  # Output: [4, 16, 36, 64, 100]\n",
    "#Alternative Using filter() and map()\n",
    "squared_evens = list(map(lambda x: x**2, filter(lambda x: x % 2 == 0, numbers)))\n",
    "print(squared_evens)  # Output: [4, 16, 36, 64, 100]\n"
   ]
  },
  {
   "cell_type": "code",
   "execution_count": 60,
   "id": "5608f6ab-c095-4b10-99b3-f677b95430d5",
   "metadata": {},
   "outputs": [
    {
     "name": "stdin",
     "output_type": "stream",
     "text": [
      "Enter the string:  haghaja87678#$$%@\n"
     ]
    },
    {
     "name": "stdout",
     "output_type": "stream",
     "text": [
      "haghaja87678\n"
     ]
    }
   ],
   "source": [
    "# Python Program to Remove Punctuation from a String \n",
    "# punc = ‘’’ ! () – [] {} : ; ‘ “ \\ , <> . / ? @ # $ % ^ & *_ ‘’’\n",
    "# str_1 = input (“Enter the string: “)\n",
    "# no_punc = “ “\n",
    "# for char in str_1:if char not in punc:\n",
    "#                              no_punc = no_punc + clear \n",
    "# print (no_punc)  #error with clear \n",
    "\n",
    "punc = '''!()–[]{}:;'“\"\\\\,<>./?@#$%^&*_'''  \n",
    "str_1 = input(\"Enter the string: \")\n",
    "\n",
    "no_punc = \"\"  \n",
    "\n",
    "for char in str_1:\n",
    "    if char not in punc:  \n",
    "        no_punc = no_punc + char \n",
    "\n",
    "print(no_punc)  \n"
   ]
  },
  {
   "cell_type": "raw",
   "id": "98747ca6-6272-45cd-b80d-b34a799bdc39",
   "metadata": {},
   "source": [
    "What is str.translate() in Python?\n",
    "The str.translate() method in Python is used to replace or remove specific characters in a string based on a translation table.\n",
    "string.punctuation contains all common punctuation marks.\n",
    "str.maketrans('', '', string.punctuation) creates a table that removes punctuation.\n",
    "translate(table) applies this table to the string."
   ]
  },
  {
   "cell_type": "code",
   "execution_count": 62,
   "id": "ba1d9497-4f6e-4d89-b759-249e1a5d8d69",
   "metadata": {},
   "outputs": [
    {
     "name": "stdout",
     "output_type": "stream",
     "text": [
      "h2ll4 w4rld\n"
     ]
    }
   ],
   "source": [
    "text = \"hello world\"\n",
    "table = str.maketrans(\"aeiou\", \"12345\")  \n",
    "# Replace vowels with numbers\n",
    "translated_text = text.translate(table) \n",
    "print(translated_text)  # Output: \"h2ll4 w4rld\""
   ]
  },
  {
   "cell_type": "code",
   "execution_count": 63,
   "id": "47578897-79fd-44d0-8018-2edd3ae2d65f",
   "metadata": {},
   "outputs": [
    {
     "name": "stdout",
     "output_type": "stream",
     "text": [
      "Python. is cool!\n"
     ]
    }
   ],
   "source": [
    "#Removing Specific Characters\n",
    "text = \"Python3.9 is cool!\"\n",
    "table = str.maketrans('', '', '1234567890')  # Remove numbers\n",
    "clean_text = text.translate(table)\n",
    " \n",
    "print(clean_text)  # Output: \"Python. is cool!\""
   ]
  },
  {
   "cell_type": "code",
   "execution_count": 65,
   "id": "70f22a23-28f7-4ca1-bc78-ceddcbf5713a",
   "metadata": {},
   "outputs": [
    {
     "name": "stdout",
     "output_type": "stream",
     "text": [
      "True\n"
     ]
    }
   ],
   "source": [
    "#Check if Strings Are Rotations of Each Other\n",
    "#Given two string s1 and s2 of same length, the task is to check whether s2 is a rotation of s1.\n",
    "#To check whether s2 is a rotation of s1, we can use the following approach:\n",
    "# Approach:\n",
    "# Concatenate s1 with itself (i.e., s1 + s1).\n",
    "# If s2 is a substring of this concatenated string, then s2 is a rotation of s1.\n",
    "# Ensure that s1 and s2 have the same length; otherwise, they cannot be rotations.\n",
    "#solution\n",
    " \n",
    "def is_rotation(s1, s2):\n",
    "\n",
    "    if len(s1) != len(s2):\n",
    "\n",
    "        return False\n",
    "\n",
    "    return s2 in (s1 + s1)\n",
    " \n",
    "# Example usage\n",
    "\n",
    "s1 = \"abcd\"\n",
    "\n",
    "s2 = \"cdab\"\n",
    " \n",
    "print(is_rotation(s1, s2))  # Output: True\n",
    "# Explanation:\n",
    "# Concatenating \"abcd\" with itself results in \"abcdabcd\".\n",
    "# \"cdab\" is a substring of \"abcdabcd\", so it is a valid rotation.\n",
    "# This solution runs in O(N) time complexity, where N is the length of the string, because checking for substring presence takes linear time on average.\n",
    " "
   ]
  },
  {
   "cell_type": "code",
   "execution_count": 67,
   "id": "fd51c6c5-f1fb-463e-84ac-9fac3ee80b7e",
   "metadata": {},
   "outputs": [
    {
     "name": "stdout",
     "output_type": "stream",
     "text": [
      "True\n",
      "False\n"
     ]
    }
   ],
   "source": [
    "# Isomorphic Strings Check\n",
    "# Isomorphic Strings Check in Python\n",
    "# Two strings are isomorphic if there is a one-to-one mapping between their characters, meaning that characters in one string can be replaced to get the other string while preserving order.\n",
    "# Approach\n",
    "# Use two dictionaries to track the mapping of characters from s1 → s2 and s2 → s1.\n",
    "# If a character in s1 is mapped to different characters in s2 (or vice versa), return False.\n",
    "# Otherwise, return True.\n",
    "def is_isomorphic(s1, s2):\n",
    "    if len(s1) != len(s2):\n",
    "        return False\n",
    "    map_s1_to_s2 = {}\n",
    "    map_s2_to_s1 = {}\n",
    " \n",
    "    for c1, c2 in zip(s1, s2):\n",
    "        if c1 in map_s1_to_s2:\n",
    "            if map_s1_to_s2[c1] != c2:\n",
    "                return False\n",
    "        else:\n",
    "            map_s1_to_s2[c1] = c2\n",
    " \n",
    "        if c2 in map_s2_to_s1:\n",
    "            if map_s2_to_s1[c2] != c1:\n",
    "                return False\n",
    "        else:\n",
    "            map_s2_to_s1[c2] = c1\n",
    " \n",
    "    return True\n",
    " \n",
    "# Example usage\n",
    "s1 = \"egg\"\n",
    "s2 = \"add\"\n",
    "print(is_isomorphic(s1, s2))  # Output: True\n",
    " \n",
    "s1 = \"foo\"\n",
    "s2 = \"bar\"\n",
    "print(is_isomorphic(s1, s2))  # Output: False"
   ]
  },
  {
   "cell_type": "raw",
   "id": "c78fefb9-d6a5-4444-91e7-4e0878657130",
   "metadata": {},
   "source": [
    "What is an API Endpoint?\n",
    "An API endpoint is a URL or URI (Uniform Resource Identifier) that allows interaction with a server to perform operations like:\n",
    "GET → Retrieve data\n",
    "POST → Submit data\n",
    "PUT → Update data\n",
    "DELETE → Remove data"
   ]
  },
  {
   "cell_type": "code",
   "execution_count": 69,
   "id": "163fb59a-1b86-4b48-a37d-9df4c7bfb22c",
   "metadata": {},
   "outputs": [
    {
     "name": "stdout",
     "output_type": "stream",
     "text": [
      "200\n",
      "{'userId': 1, 'id': 1, 'title': 'sunt aut facere repellat provident occaecati excepturi optio reprehenderit', 'body': 'quia et suscipit\\nsuscipit recusandae consequuntur expedita et cum\\nreprehenderit molestiae ut ut quas totam\\nnostrum rerum est autem sunt rem eveniet architecto'}\n"
     ]
    }
   ],
   "source": [
    "#Example of API\n",
    " \n",
    "import requests\n",
    " \n",
    "url = \"https://jsonplaceholder.typicode.com/posts/1\"  # Example API\n",
    "\n",
    "response = requests.get(url)\n",
    " \n",
    "print(response.status_code)  # HTTP Status Code\n",
    "\n",
    "print(response.json())  # JSON Response\n",
    "\n",
    " "
   ]
  },
  {
   "cell_type": "raw",
   "id": "e42776f7-38fe-4b68-b74a-3628847f1e73",
   "metadata": {},
   "source": [
    "# Example using requests with Basic Auth\n",
    " \n",
    "import requests\n",
    " \n",
    "from requests.auth import HTTPBasicAuth\n",
    " \n",
    "url = \"https://api.example.com/protected_resource\"\n",
    "username = \"your_username\"\n",
    "password = \"your_password\"\n",
    " \n",
    "response = requests.get(url, auth=HTTPBasicAuth(username, password))\n",
    " \n",
    "print(response.status_code)\n",
    "print(response.json())  # Response from the server\n",
    " "
   ]
  },
  {
   "cell_type": "code",
   "execution_count": null,
   "id": "35a4a0f6-8d48-4601-8cec-997d5a15602d",
   "metadata": {},
   "outputs": [],
   "source": []
  }
 ],
 "metadata": {
  "kernelspec": {
   "display_name": "Python 3 (ipykernel)",
   "language": "python",
   "name": "python3"
  },
  "language_info": {
   "codemirror_mode": {
    "name": "ipython",
    "version": 3
   },
   "file_extension": ".py",
   "mimetype": "text/x-python",
   "name": "python",
   "nbconvert_exporter": "python",
   "pygments_lexer": "ipython3",
   "version": "3.11.5"
  }
 },
 "nbformat": 4,
 "nbformat_minor": 5
}
